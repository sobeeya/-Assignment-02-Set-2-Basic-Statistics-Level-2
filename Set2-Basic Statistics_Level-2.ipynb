{
 "cells": [
  {
   "cell_type": "markdown",
   "id": "8d5a6160",
   "metadata": {},
   "source": [
    "# Set 2 "
   ]
  },
  {
   "cell_type": "markdown",
   "id": "ad5f6662",
   "metadata": {},
   "source": [
    "# Question-1"
   ]
  },
  {
   "cell_type": "code",
   "execution_count": 9,
   "id": "50d10855",
   "metadata": {},
   "outputs": [],
   "source": [
    "import pandas as pd\n",
    "import numpy as np\n",
    "import matplotlib.pyplot as plt\n",
    "import scipy.stats as stats\n",
    "import seaborn as sns\n",
    "import statsmodels.api as smf"
   ]
  },
  {
   "cell_type": "code",
   "execution_count": 2,
   "id": "74c37e5b",
   "metadata": {},
   "outputs": [],
   "source": [
    "import warnings\n",
    "warnings.filterwarnings('ignore')"
   ]
  },
  {
   "cell_type": "markdown",
   "id": "fd20b82d",
   "metadata": {},
   "source": [
    "1. The time required for servicing transmissions is normally distributed with MEAN = 45 minutes and STD = 8 minutes. The service manager plans to have work begin on the transmission of a customer’s car 10 minutes after the car is dropped off and the customer is told that the car will be ready within 1 hour from drop-off. What is the probability that the service manager cannot meet his commitment? "
   ]
  },
  {
   "cell_type": "code",
   "execution_count": 3,
   "id": "b9017f65",
   "metadata": {},
   "outputs": [
    {
     "name": "stdout",
     "output_type": "stream",
     "text": [
      "The probability that the service manager cannot meet his \n",
      "      commitment is 0.266\n"
     ]
    }
   ],
   "source": [
    "#Since the service manager begins work after 10 minutes, new mean value will be 55. \n",
    "mean = 55\n",
    "std = 8\n",
    "Q = stats.norm.sf(60, loc = mean, scale = std)\n",
    "print(\"\"\"The probability that the service manager cannot meet his \n",
    "      commitment is\"\"\",np.round(Q,4))"
   ]
  },
  {
   "cell_type": "markdown",
   "id": "84ddd47d",
   "metadata": {},
   "source": [
    "# Question-2"
   ]
  },
  {
   "cell_type": "markdown",
   "id": "ad43ae6d",
   "metadata": {},
   "source": [
    "2.\tThe current age (in years) of 400 clerical employees at an insurance claims processing center is normally distributed with mean = 38 and Standard deviation = 6. For each statement below, please specify True/False. If false, briefly explain why.\n",
    "A.\tMore employees at the processing center are older than 44 than between 38 and 44.\n",
    "B.\tA training program for employees under the age of 30 at the center would be expected to attract about 36 employees.\n"
   ]
  },
  {
   "cell_type": "code",
   "execution_count": 4,
   "id": "7910565a",
   "metadata": {},
   "outputs": [],
   "source": [
    "from scipy import stats\n",
    "from scipy.stats import norm"
   ]
  },
  {
   "cell_type": "markdown",
   "id": "3e089c81",
   "metadata": {},
   "source": [
    "A) More employees at the processing center are older than 44 than between 38 and 44."
   ]
  },
  {
   "cell_type": "code",
   "execution_count": 5,
   "id": "044a38ab",
   "metadata": {},
   "outputs": [
    {
     "data": {
      "text/plain": [
       "0.15865525393145707"
      ]
     },
     "execution_count": 5,
     "metadata": {},
     "output_type": "execute_result"
    }
   ],
   "source": [
    "# p(X>44); Employees older than 44 yrs of age\n",
    "1-stats.norm.cdf(44,loc=38,scale=6)"
   ]
  },
  {
   "cell_type": "code",
   "execution_count": 6,
   "id": "9e6c737f",
   "metadata": {},
   "outputs": [
    {
     "data": {
      "text/plain": [
       "0.3413447460685429"
      ]
     },
     "execution_count": 6,
     "metadata": {},
     "output_type": "execute_result"
    }
   ],
   "source": [
    "# p(38<X<44); Employees between 38 to 44 yrs of age\n",
    "stats.norm.cdf(44,38,6)-stats.norm.cdf(38,38,6)"
   ]
  },
  {
   "cell_type": "markdown",
   "id": "76c87898",
   "metadata": {},
   "source": [
    "B) A training program for employees under the age of 30 at the center would be expected to attract about 36 employees."
   ]
  },
  {
   "cell_type": "code",
   "execution_count": 7,
   "id": "cf33cdd2",
   "metadata": {},
   "outputs": [
    {
     "data": {
      "text/plain": [
       "0.09121121972586788"
      ]
     },
     "execution_count": 7,
     "metadata": {},
     "output_type": "execute_result"
    }
   ],
   "source": [
    "# P(X<30); Employees under 30 yrs of age\n",
    "stats.norm.cdf(30,38,6)"
   ]
  },
  {
   "cell_type": "code",
   "execution_count": 10,
   "id": "a0035f39",
   "metadata": {},
   "outputs": [
    {
     "data": {
      "text/plain": [
       "36.484487890347154"
      ]
     },
     "execution_count": 10,
     "metadata": {},
     "output_type": "execute_result"
    }
   ],
   "source": [
    "# No. of employees attending training program from 400 nos. is N*P(X<30)\n",
    "400*stats.norm.cdf(30,38,6)"
   ]
  },
  {
   "cell_type": "markdown",
   "id": "0aeace10",
   "metadata": {},
   "source": [
    "A training program for employees under the age of 30 at the center would be expected to attract about 36 employees"
   ]
  },
  {
   "cell_type": "markdown",
   "id": "c6a4ecd4",
   "metadata": {},
   "source": [
    "# Question- 4"
   ]
  },
  {
   "cell_type": "markdown",
   "id": "31d96675",
   "metadata": {},
   "source": [
    "4.\tLet X ~ N(100, 202). Find two values, a and b, symmetric about the mean, such that the probability of the random variable taking a value between them is 0.99. "
   ]
  },
  {
   "cell_type": "code",
   "execution_count": 11,
   "id": "1665338e",
   "metadata": {},
   "outputs": [],
   "source": [
    "from scipy import stats\n",
    "from scipy.stats import norm"
   ]
  },
  {
   "cell_type": "code",
   "execution_count": 14,
   "id": "72da1ecd",
   "metadata": {},
   "outputs": [
    {
     "data": {
      "text/plain": [
       "(48.48341392902199, 151.516586070978)"
      ]
     },
     "execution_count": 14,
     "metadata": {},
     "output_type": "execute_result"
    }
   ],
   "source": [
    "stats.norm.interval(0.99,100,20)"
   ]
  }
 ],
 "metadata": {
  "kernelspec": {
   "display_name": "Python 3 (ipykernel)",
   "language": "python",
   "name": "python3"
  },
  "language_info": {
   "codemirror_mode": {
    "name": "ipython",
    "version": 3
   },
   "file_extension": ".py",
   "mimetype": "text/x-python",
   "name": "python",
   "nbconvert_exporter": "python",
   "pygments_lexer": "ipython3",
   "version": "3.9.7"
  }
 },
 "nbformat": 4,
 "nbformat_minor": 5
}
